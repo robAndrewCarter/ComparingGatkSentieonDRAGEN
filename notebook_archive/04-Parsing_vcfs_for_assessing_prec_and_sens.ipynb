{
 "cells": [
  {
   "cell_type": "code",
   "execution_count": 10,
   "metadata": {},
   "outputs": [],
   "source": [
    "%load_ext autoreload\n",
    "%autoreload 2"
   ]
  },
  {
   "cell_type": "code",
   "execution_count": 11,
   "metadata": {},
   "outputs": [],
   "source": [
    "import re, json, os, logging, io, pprint, subprocess\n",
    "\n",
    "import pandas as pd\n",
    "\n",
    "from cromwell_tools.cromwell_api import CromwellAPI as cwt\n",
    "from cromwell_tools import cromwell_auth\n",
    "from google.cloud import storage"
   ]
  },
  {
   "cell_type": "code",
   "execution_count": 13,
   "metadata": {},
   "outputs": [],
   "source": [
    "os.environ['GOOGLE_APPLICATION_CREDENTIALS'] = \"/home/rcarter/.google/bioskryb-81ce35d92471.json\""
   ]
  },
  {
   "cell_type": "markdown",
   "metadata": {},
   "source": [
    "Here we acquire and parse vcfs from Sentieon and Dragen for comparison to GATK"
   ]
  },
  {
   "cell_type": "markdown",
   "metadata": {},
   "source": [
    "### Copy Sentieon's DNAscope and DRAGEN's VCFs over to scratch for analysis"
   ]
  },
  {
   "cell_type": "code",
   "execution_count": 13,
   "metadata": {},
   "outputs": [],
   "source": [
    "dnascoped_vcfs = !gsutil ls gs://bioskryb-work-d8f6s9/ComparingGatkSentieonDRAGEN/data/01-Sentieon_output/DNAScope/**.vcf.gz*"
   ]
  },
  {
   "cell_type": "code",
   "execution_count": null,
   "metadata": {},
   "outputs": [],
   "source": [
    "for _dnascope_vcf in dnascoped_vcfs:\n",
    "    sample_name = _dnascope_vcf.split(\"/\")[-3]\n",
    "    output_location = \"scratch/{}.{}\".format(sample_name, os.path.basename(_dnascope_vcf))\n",
    "    !gsutil cp $_dnascope_vcf $output_location"
   ]
  },
  {
   "cell_type": "code",
   "execution_count": 17,
   "metadata": {},
   "outputs": [],
   "source": [
    "dragen_vcfs = !gsutil ls gs://bioskryb-work-d8f6s9/ComparingGatkSentieonDRAGEN/data/02-DRAGEN_illumina/**.vcf.gz*"
   ]
  },
  {
   "cell_type": "code",
   "execution_count": null,
   "metadata": {},
   "outputs": [],
   "source": [
    "for _dragen_vcf in dragen_vcfs:\n",
    "    sample_name = _dragen_vcf.split(\"/\")[-3]\n",
    "    output_location = \"scratch/{}.{}\".format(sample_name, os.path.basename(_dragen_vcf))\n",
    "    !gsutil cp $_dragen_vcf $output_location"
   ]
  },
  {
   "cell_type": "markdown",
   "metadata": {},
   "source": [
    "### Split vcfs into SNPs and indels and convert DRAGEN results from GRCh37 to GRCh38"
   ]
  },
  {
   "cell_type": "code",
   "execution_count": 36,
   "metadata": {},
   "outputs": [
    {
     "data": {
      "text/plain": [
       "['JW-11_merged_n450x10e6.dnascope.vcf.gz',\n",
       " 'JW-23_merged_n450x10e6.dnascope.vcf.gz',\n",
       " 'JW-31_merged_n450x10e6.dnascope.vcf.gz']"
      ]
     },
     "execution_count": 36,
     "metadata": {},
     "output_type": "execute_result"
    }
   ],
   "source": [
    "local_sentieon_dnascope_vcfs = !ls scratch/*dnascope.vcf.gz | xargs -i basename {}\n",
    "local_sentieon_dnascope_vcfs"
   ]
  },
  {
   "cell_type": "code",
   "execution_count": null,
   "metadata": {},
   "outputs": [],
   "source": [
    "for _local_dnascope_vcf in local_sentieon_dnascope_vcfs:\n",
    "    snp_output = re.sub(\".vcf.gz\", \".snp.vcf.gz\", _local_dnascope_vcf)\n",
    "    indel_output = re.sub(\".vcf.gz\", \".indel.vcf.gz\", _local_dnascope_vcf)\n",
    "    gatk_command = '\"cd /home && gatk SplitVcfs --STRICT false -I {} --INDEL_OUTPUT {} --SNP_OUTPUT {}\"'.format(_local_dnascope_vcf, indel_output, snp_output)\n",
    "    !docker run -v /home/rcarter/ComparingGatkSentieonDRAGEN/scratch/:/home -ti gcr.io/bioskryb/gatk:4.1.3.0 /bin/bash -c $gatk_command"
   ]
  },
  {
   "cell_type": "markdown",
   "metadata": {},
   "source": [
    "Download the chain file for crossmap and run using the py2 environment"
   ]
  },
  {
   "cell_type": "code",
   "execution_count": 38,
   "metadata": {},
   "outputs": [
    {
     "name": "stdout",
     "output_type": "stream",
     "text": [
      "--2020-03-22 18:18:57--  http://hgdownload.soe.ucsc.edu/goldenPath/hg19/liftOver/hg19ToHg38.over.chain.gz\n",
      "Resolving hgdownload.soe.ucsc.edu (hgdownload.soe.ucsc.edu)... 128.114.119.163\n",
      "Connecting to hgdownload.soe.ucsc.edu (hgdownload.soe.ucsc.edu)|128.114.119.163|:80... connected.\n",
      "HTTP request sent, awaiting response... 200 OK\n",
      "Length: 227698 (222K) [application/x-gzip]\n",
      "Saving to: ‘scratch/hg19ToHg38.over.chain.gz’\n",
      "\n",
      "scratch/hg19ToHg38. 100%[===================>] 222.36K  --.-KB/s    in 0.008s  \n",
      "\n",
      "2020-03-22 18:18:58 (27.4 MB/s) - ‘scratch/hg19ToHg38.over.chain.gz’ saved [227698/227698]\n",
      "\n"
     ]
    }
   ],
   "source": [
    "!wget -O scratch/hg19ToHg38.over.chain.gz http://hgdownload.soe.ucsc.edu/goldenPath/hg19/liftOver/hg19ToHg38.over.chain.gz"
   ]
  },
  {
   "cell_type": "markdown",
   "metadata": {},
   "source": [
    "The following was run on the commandline since it required running from a different environment:"
   ]
  },
  {
   "cell_type": "code",
   "execution_count": 40,
   "metadata": {},
   "outputs": [
    {
     "data": {
      "text/plain": [
       "['JW-11_merged.5006-dragen_map_align_sort_dedup_C_bed_VC_save_bam-DB_BioSkryb_JW_11_merged.INV137904-EId2.hard-filtered.vcf.gz',\n",
       " 'JW-11_merged.5006-dragen_map_align_sort_dedup_C_bed_VC_save_bam-DB_BioSkryb_JW_11_merged.INV137904-EId2.vcf.gz',\n",
       " 'JW-23_merged.5006-dragen_map_align_sort_dedup_C_bed_VC_save_bam-DB_BioSkryb_JW_23_merged.INV137904-EId4.hard-filtered.vcf.gz',\n",
       " 'JW-23_merged.5006-dragen_map_align_sort_dedup_C_bed_VC_save_bam-DB_BioSkryb_JW_23_merged.INV137904-EId4.vcf.gz',\n",
       " 'JW-31_merged.5006-dragen_map_align_sort_dedup_C_bed_VC_save_bam-DB_BioSkryb_JW-31_merged.INV137904-EId6.hard-filtered.vcf.gz',\n",
       " 'JW-31_merged.5006-dragen_map_align_sort_dedup_C_bed_VC_save_bam-DB_BioSkryb_JW-31_merged.INV137904-EId6.vcf.gz']"
      ]
     },
     "execution_count": 40,
     "metadata": {},
     "output_type": "execute_result"
    }
   ],
   "source": [
    "local_dragen_vcfs = !ls scratch/*dragen*.vcf.gz | xargs -i basename {} | grep -v GRCh38\n",
    "local_dragen_vcfs"
   ]
  },
  {
   "cell_type": "code",
   "execution_count": null,
   "metadata": {},
   "outputs": [],
   "source": [
    "for _local_dragen_vcf in local_dragen_vcfs:\n",
    "    grch38_output = re.sub(\".vcf.gz\", \".GRCh38.vcf.gz\", _local_dragen_vcf)\n",
    "    grch38_reject_output = re.sub(\".vcf.gz\", \".GRCh38.reject.vcf.gz\", _local_dragen_vcf)\n",
    "    liftover_command = '\"cd /home && gatk LiftoverVcf -C b37ToHg38.over.chain -I {} -O {} -R /home2/Homo_sapiens_assembly38.fasta --REJECT {}\"'.format(_local_dragen_vcf, grch38_output, grch38_reject_output)\n",
    "    !docker run -ti -v /home/rcarter/ComparingGatkSentieonDRAGEN/scratch:/home -v /home/rcarter:/home2 gcr.io/bioskryb/gatk:4.1.3.0 /bin/bash -c $liftover_command"
   ]
  },
  {
   "cell_type": "markdown",
   "metadata": {},
   "source": [
    "Compress, index, and split the Converted DRAGEN results (GRCh38)  into snps and indels"
   ]
  },
  {
   "cell_type": "code",
   "execution_count": 83,
   "metadata": {},
   "outputs": [
    {
     "data": {
      "text/plain": [
       "['JW-11_merged.5006-dragen_map_align_sort_dedup_C_bed_VC_save_bam-DB_BioSkryb_JW_11_merged.INV137904-EId2.GRCh38.vcf.gz',\n",
       " 'JW-11_merged.5006-dragen_map_align_sort_dedup_C_bed_VC_save_bam-DB_BioSkryb_JW_11_merged.INV137904-EId2.hard-filtered.GRCh38.vcf.gz',\n",
       " 'JW-23_merged.5006-dragen_map_align_sort_dedup_C_bed_VC_save_bam-DB_BioSkryb_JW_23_merged.INV137904-EId4.GRCh38.vcf.gz',\n",
       " 'JW-23_merged.5006-dragen_map_align_sort_dedup_C_bed_VC_save_bam-DB_BioSkryb_JW_23_merged.INV137904-EId4.hard-filtered.GRCh38.vcf.gz',\n",
       " 'JW-31_merged.5006-dragen_map_align_sort_dedup_C_bed_VC_save_bam-DB_BioSkryb_JW-31_merged.INV137904-EId6.GRCh38.vcf.gz',\n",
       " 'JW-31_merged.5006-dragen_map_align_sort_dedup_C_bed_VC_save_bam-DB_BioSkryb_JW-31_merged.INV137904-EId6.hard-filtered.GRCh38.vcf.gz']"
      ]
     },
     "execution_count": 83,
     "metadata": {},
     "output_type": "execute_result"
    }
   ],
   "source": [
    "local_dragen_grch38_vcfs = !ls scratch/*.GRCh38.vcf.gz | xargs -i basename {}\n",
    "local_dragen_grch38_vcfs"
   ]
  },
  {
   "cell_type": "code",
   "execution_count": null,
   "metadata": {
    "scrolled": true
   },
   "outputs": [],
   "source": [
    "for _local_dragen_grch38_vcf in local_dragen_grch38_vcfs:\n",
    "    snp_output = re.sub(\".vcf.gz\", \".snp.vcf.gz\", _local_dragen_grch38_vcf)\n",
    "    indel_output = re.sub(\".vcf.gz\", \".indel.vcf.gz\", _local_dragen_grch38_vcf)\n",
    "    gatk_command = '\"cd /home && gatk SplitVcfs --VALIDATION_STRINGENCY SILENT --STRICT false -I {invcf} --INDEL_OUTPUT {indel} --SNP_OUTPUT {snp}\"'.format(invcf = _local_dragen_grch38_vcf, indel = indel_output, snp = snp_output)\n",
    "    !docker run -v /home/rcarter/ComparingGatkSentieonDRAGEN/scratch/:/home -ti gcr.io/bioskryb/gatk:4.1.3.0 /bin/bash -c $gatk_command"
   ]
  },
  {
   "cell_type": "code",
   "execution_count": 93,
   "metadata": {},
   "outputs": [],
   "source": [
    "sentieon_snp_vcfs = !ls scratch/*dnascope.snp.vcf.gz | xargs -i basename {}\n",
    "dragen_hf_snp_vcfs = !ls scratch/*dragen*.snp.vcf.gz | grep hard-filtered | xargs -i basename {}\n",
    "dragen_snp_vcfs = !ls scratch/*dragen*.snp.vcf.gz | grep -v hard-filtered | xargs -i basename {}"
   ]
  },
  {
   "cell_type": "code",
   "execution_count": 97,
   "metadata": {},
   "outputs": [
    {
     "name": "stdout",
     "output_type": "stream",
     "text": [
      "Reference sequence chrM is used in calls but not in baseline.\n",
      "Threshold  True-pos-baseline  True-pos-call  False-pos  False-neg  Precision  Sensitivity  F-measure\n",
      "----------------------------------------------------------------------------------------------------\n",
      "    0.000            2882870        2882870     361881     426390     0.8885       0.8712     0.8797\n",
      "     None            2882870        2882870     361881     426390     0.8885       0.8712     0.8797\n",
      "\n",
      "Reference sequence chrM is used in calls but not in baseline.\n",
      "Threshold  True-pos-baseline  True-pos-call  False-pos  False-neg  Precision  Sensitivity  F-measure\n",
      "----------------------------------------------------------------------------------------------------\n",
      "    0.000            2677786        2677786     276628     631474     0.9064       0.8092     0.8550\n",
      "     None            2677786        2677786     276628     631474     0.9064       0.8092     0.8550\n",
      "\n",
      "Reference sequence chrM is used in calls but not in baseline.\n",
      "Threshold  True-pos-baseline  True-pos-call  False-pos  False-neg  Precision  Sensitivity  F-measure\n",
      "----------------------------------------------------------------------------------------------------\n",
      "    0.000            3068923        3068923     297649     240337     0.9116       0.9274     0.9194\n",
      "     None            3068923        3068923     297649     240337     0.9116       0.9274     0.9194\n",
      "\n",
      "Reference sequence chrM is used in calls but not in baseline.\n",
      "Reference sequence chr1_KI270706v1_random is used in calls but not in baseline.\n",
      "Reference sequence chr3_GL000221v1_random is used in calls but not in baseline.\n",
      "Reference sequence chr4_GL000008v2_random is used in calls but not in baseline.\n",
      "Reference sequence chr5_GL000208v1_random is used in calls but not in baseline.\n",
      "Reference sequence chr14_GL000009v2_random is used in calls but not in baseline.\n",
      "Reference sequence chr14_GL000225v1_random is used in calls but not in baseline.\n",
      "Reference sequence chr14_GL000194v1_random is used in calls but not in baseline.\n",
      "Reference sequence chr17_GL000205v2_random is used in calls but not in baseline.\n",
      "Reference sequence chr22_KI270731v1_random is used in calls but not in baseline.\n",
      "Reference sequence chrUn_GL000195v1 is used in calls but not in baseline.\n",
      "Reference sequence chrUn_GL000219v1 is used in calls but not in baseline.\n",
      "Reference sequence chrUn_GL000220v1 is used in calls but not in baseline.\n",
      "Reference sequence chrUn_GL000224v1 is used in calls but not in baseline.\n",
      "Reference sequence chrUn_GL000226v1 is used in calls but not in baseline.\n",
      "Reference sequence chrUn_GL000213v1 is used in calls but not in baseline.\n",
      "Reference sequence chrUn_GL000214v1 is used in calls but not in baseline.\n",
      "Reference sequence chrUn_KI270742v1 is used in calls but not in baseline.\n",
      "Reference sequence chrUn_GL000216v2 is used in calls but not in baseline.\n",
      "Reference sequence chrUn_GL000218v1 is used in calls but not in baseline.\n",
      "Reference sequence chr1_KI270766v1_alt is used in calls but not in baseline.\n",
      "Reference sequence chr7_KI270803v1_alt is used in calls but not in baseline.\n",
      "Reference sequence chr8_KI270821v1_alt is used in calls but not in baseline.\n",
      "Reference sequence chr12_GL877875v1_alt is used in calls but not in baseline.\n",
      "Reference sequence chr14_KI270846v1_alt is used in calls but not in baseline.\n",
      "Reference sequence chr15_KI270850v1_alt is used in calls but not in baseline.\n",
      "Reference sequence chr17_KI270862v1_alt is used in calls but not in baseline.\n",
      "Reference sequence chr17_KI270857v1_alt is used in calls but not in baseline.\n",
      "Reference sequence chr2_KI270894v1_alt is used in calls but not in baseline.\n",
      "Reference sequence chr17_KI270909v1_alt is used in calls but not in baseline.\n",
      "Reference sequence chr22_KI270928v1_alt is used in calls but not in baseline.\n",
      "Reference sequence chr19_KI270938v1_alt is used in calls but not in baseline.\n",
      "There were 8 variants not thresholded in ROC data files due to missing or invalid GQ (FORMAT) values.\n",
      "Threshold  True-pos-baseline  True-pos-call  False-pos  False-neg  Precision  Sensitivity  F-measure\n",
      "----------------------------------------------------------------------------------------------------\n",
      "    3.000            2836853        2836853     422151     472407     0.8705       0.8572     0.8638\n",
      "     None            2836853        2836853     422160     472407     0.8705       0.8572     0.8638\n",
      "\n",
      "Reference sequence chrM is used in calls but not in baseline.\n",
      "Reference sequence chr1_KI270706v1_random is used in calls but not in baseline.\n",
      "Reference sequence chr1_KI270712v1_random is used in calls but not in baseline.\n",
      "Reference sequence chr3_GL000221v1_random is used in calls but not in baseline.\n",
      "Reference sequence chr4_GL000008v2_random is used in calls but not in baseline.\n",
      "Reference sequence chr5_GL000208v1_random is used in calls but not in baseline.\n",
      "Reference sequence chr14_GL000009v2_random is used in calls but not in baseline.\n",
      "Reference sequence chr14_GL000225v1_random is used in calls but not in baseline.\n",
      "Reference sequence chr14_GL000194v1_random is used in calls but not in baseline.\n",
      "Reference sequence chr17_GL000205v2_random is used in calls but not in baseline.\n",
      "Reference sequence chr22_KI270731v1_random is used in calls but not in baseline.\n",
      "Reference sequence chrUn_GL000195v1 is used in calls but not in baseline.\n",
      "Reference sequence chrUn_GL000219v1 is used in calls but not in baseline.\n",
      "Reference sequence chrUn_GL000220v1 is used in calls but not in baseline.\n",
      "Reference sequence chrUn_GL000224v1 is used in calls but not in baseline.\n",
      "Reference sequence chrUn_GL000226v1 is used in calls but not in baseline.\n",
      "Reference sequence chrUn_GL000213v1 is used in calls but not in baseline.\n",
      "Reference sequence chrUn_GL000214v1 is used in calls but not in baseline.\n",
      "Reference sequence chrUn_KI270742v1 is used in calls but not in baseline.\n",
      "Reference sequence chrUn_GL000216v2 is used in calls but not in baseline.\n",
      "Reference sequence chrUn_GL000218v1 is used in calls but not in baseline.\n",
      "Reference sequence chr1_KI270766v1_alt is used in calls but not in baseline.\n",
      "Reference sequence chr2_KI270776v1_alt is used in calls but not in baseline.\n",
      "Reference sequence chr7_KI270803v1_alt is used in calls but not in baseline.\n",
      "Reference sequence chr8_KI270821v1_alt is used in calls but not in baseline.\n",
      "Reference sequence chr12_GL877875v1_alt is used in calls but not in baseline.\n",
      "Reference sequence chr14_KI270846v1_alt is used in calls but not in baseline.\n",
      "Reference sequence chr15_KI270850v1_alt is used in calls but not in baseline.\n",
      "Reference sequence chr17_KI270857v1_alt is used in calls but not in baseline.\n",
      "Reference sequence chr22_KI270879v1_alt is used in calls but not in baseline.\n",
      "Reference sequence chr2_KI270894v1_alt is used in calls but not in baseline.\n",
      "Reference sequence chr17_KI270909v1_alt is used in calls but not in baseline.\n",
      "Reference sequence chr22_KI270928v1_alt is used in calls but not in baseline.\n",
      "Reference sequence chr19_KI270938v1_alt is used in calls but not in baseline.\n",
      "There were 7 variants not thresholded in ROC data files due to missing or invalid GQ (FORMAT) values.\n",
      "Threshold  True-pos-baseline  True-pos-call  False-pos  False-neg  Precision  Sensitivity  F-measure\n",
      "----------------------------------------------------------------------------------------------------\n",
      "    2.000            2643281        2643281     338887     665979     0.8864       0.7988     0.8403\n",
      "     None            2643281        2643281     338894     665979     0.8864       0.7988     0.8403\n",
      "\n",
      "Reference sequence chrM is used in calls but not in baseline.\n",
      "Reference sequence chr1_KI270706v1_random is used in calls but not in baseline.\n",
      "Reference sequence chr3_GL000221v1_random is used in calls but not in baseline.\n",
      "Reference sequence chr4_GL000008v2_random is used in calls but not in baseline.\n",
      "Reference sequence chr5_GL000208v1_random is used in calls but not in baseline.\n",
      "Reference sequence chr14_GL000009v2_random is used in calls but not in baseline.\n",
      "Reference sequence chr14_GL000225v1_random is used in calls but not in baseline.\n",
      "Reference sequence chr14_GL000194v1_random is used in calls but not in baseline.\n",
      "Reference sequence chr17_GL000205v2_random is used in calls but not in baseline.\n",
      "Reference sequence chr22_KI270731v1_random is used in calls but not in baseline.\n",
      "Reference sequence chrUn_GL000195v1 is used in calls but not in baseline.\n",
      "Reference sequence chrUn_GL000219v1 is used in calls but not in baseline.\n",
      "Reference sequence chrUn_GL000220v1 is used in calls but not in baseline.\n",
      "Reference sequence chrUn_GL000224v1 is used in calls but not in baseline.\n",
      "Reference sequence chrUn_GL000226v1 is used in calls but not in baseline.\n",
      "Reference sequence chrUn_GL000213v1 is used in calls but not in baseline.\n",
      "Reference sequence chrUn_GL000214v1 is used in calls but not in baseline.\n",
      "Reference sequence chrUn_KI270742v1 is used in calls but not in baseline.\n",
      "Reference sequence chrUn_GL000216v2 is used in calls but not in baseline.\n",
      "Reference sequence chrUn_GL000218v1 is used in calls but not in baseline.\n",
      "Reference sequence chr1_KI270766v1_alt is used in calls but not in baseline.\n",
      "Reference sequence chr1_KI270765v1_alt is used in calls but not in baseline.\n",
      "Reference sequence chr2_KI270776v1_alt is used in calls but not in baseline.\n",
      "Reference sequence chr7_KI270803v1_alt is used in calls but not in baseline.\n",
      "Reference sequence chr8_KI270821v1_alt is used in calls but not in baseline.\n",
      "Reference sequence chr12_GL877875v1_alt is used in calls but not in baseline.\n",
      "Reference sequence chr14_KI270846v1_alt is used in calls but not in baseline.\n",
      "Reference sequence chr15_KI270850v1_alt is used in calls but not in baseline.\n",
      "Reference sequence chr17_KI270862v1_alt is used in calls but not in baseline.\n",
      "Reference sequence chr17_KI270857v1_alt is used in calls but not in baseline.\n",
      "Reference sequence chr2_KI270894v1_alt is used in calls but not in baseline.\n",
      "Reference sequence chr17_KI270909v1_alt is used in calls but not in baseline.\n",
      "Reference sequence chr22_KI270928v1_alt is used in calls but not in baseline.\n",
      "Reference sequence chr19_KI270938v1_alt is used in calls but not in baseline.\n",
      "There were 6 variants not thresholded in ROC data files due to missing or invalid GQ (FORMAT) values.\n",
      "Threshold  True-pos-baseline  True-pos-call  False-pos  False-neg  Precision  Sensitivity  F-measure\n",
      "----------------------------------------------------------------------------------------------------\n",
      "    3.000            3016229        3016229     368323     293031     0.8912       0.9115     0.9012\n",
      "     None            3016229        3016229     368330     293031     0.8912       0.9115     0.9012\n",
      "\n",
      "Reference sequence chrM is used in calls but not in baseline.\n",
      "Reference sequence chr1_KI270706v1_random is used in calls but not in baseline.\n",
      "Reference sequence chr3_GL000221v1_random is used in calls but not in baseline.\n",
      "Reference sequence chr4_GL000008v2_random is used in calls but not in baseline.\n",
      "Reference sequence chr5_GL000208v1_random is used in calls but not in baseline.\n",
      "Reference sequence chr14_GL000009v2_random is used in calls but not in baseline.\n",
      "Reference sequence chr14_GL000225v1_random is used in calls but not in baseline.\n",
      "Reference sequence chr14_GL000194v1_random is used in calls but not in baseline.\n",
      "Reference sequence chr17_GL000205v2_random is used in calls but not in baseline.\n",
      "Reference sequence chr22_KI270731v1_random is used in calls but not in baseline.\n",
      "Reference sequence chrUn_GL000195v1 is used in calls but not in baseline.\n",
      "Reference sequence chrUn_GL000219v1 is used in calls but not in baseline.\n",
      "Reference sequence chrUn_GL000220v1 is used in calls but not in baseline.\n",
      "Reference sequence chrUn_GL000224v1 is used in calls but not in baseline.\n",
      "Reference sequence chrUn_GL000226v1 is used in calls but not in baseline.\n",
      "Reference sequence chrUn_GL000213v1 is used in calls but not in baseline.\n",
      "Reference sequence chrUn_GL000214v1 is used in calls but not in baseline.\n",
      "Reference sequence chrUn_KI270742v1 is used in calls but not in baseline.\n",
      "Reference sequence chrUn_GL000216v2 is used in calls but not in baseline.\n",
      "Reference sequence chrUn_GL000218v1 is used in calls but not in baseline.\n",
      "Reference sequence chr1_KI270766v1_alt is used in calls but not in baseline.\n",
      "Reference sequence chr7_KI270803v1_alt is used in calls but not in baseline.\n",
      "Reference sequence chr8_KI270821v1_alt is used in calls but not in baseline.\n",
      "Reference sequence chr12_GL877875v1_alt is used in calls but not in baseline.\n",
      "Reference sequence chr14_KI270846v1_alt is used in calls but not in baseline.\n",
      "Reference sequence chr15_KI270850v1_alt is used in calls but not in baseline.\n",
      "Reference sequence chr17_KI270862v1_alt is used in calls but not in baseline.\n",
      "Reference sequence chr17_KI270857v1_alt is used in calls but not in baseline.\n",
      "Reference sequence chr2_KI270894v1_alt is used in calls but not in baseline.\n",
      "Reference sequence chr17_KI270909v1_alt is used in calls but not in baseline.\n",
      "Reference sequence chr22_KI270928v1_alt is used in calls but not in baseline.\n",
      "Reference sequence chr19_KI270938v1_alt is used in calls but not in baseline.\n",
      "There were 11 variants not thresholded in ROC data files due to missing or invalid GQ (FORMAT) values.\n",
      "Threshold  True-pos-baseline  True-pos-call  False-pos  False-neg  Precision  Sensitivity  F-measure\n",
      "----------------------------------------------------------------------------------------------------\n",
      "    4.000            2858530        2858530     479264     450730     0.8564       0.8638     0.8601\n",
      "     None            2862732        2862732     486040     446528     0.8549       0.8651     0.8599\n",
      "\n",
      "Reference sequence chrM is used in calls but not in baseline.\n",
      "Reference sequence chr1_KI270706v1_random is used in calls but not in baseline.\n",
      "Reference sequence chr1_KI270712v1_random is used in calls but not in baseline.\n",
      "Reference sequence chr3_GL000221v1_random is used in calls but not in baseline.\n",
      "Reference sequence chr4_GL000008v2_random is used in calls but not in baseline.\n",
      "Reference sequence chr5_GL000208v1_random is used in calls but not in baseline.\n",
      "Reference sequence chr14_GL000009v2_random is used in calls but not in baseline.\n",
      "Reference sequence chr14_GL000225v1_random is used in calls but not in baseline.\n",
      "Reference sequence chr14_GL000194v1_random is used in calls but not in baseline.\n",
      "Reference sequence chr17_GL000205v2_random is used in calls but not in baseline.\n",
      "Reference sequence chr22_KI270731v1_random is used in calls but not in baseline.\n",
      "Reference sequence chrUn_GL000195v1 is used in calls but not in baseline.\n",
      "Reference sequence chrUn_GL000219v1 is used in calls but not in baseline.\n",
      "Reference sequence chrUn_GL000220v1 is used in calls but not in baseline.\n",
      "Reference sequence chrUn_GL000224v1 is used in calls but not in baseline.\n",
      "Reference sequence chrUn_GL000226v1 is used in calls but not in baseline.\n",
      "Reference sequence chrUn_GL000213v1 is used in calls but not in baseline.\n",
      "Reference sequence chrUn_GL000214v1 is used in calls but not in baseline.\n",
      "Reference sequence chrUn_KI270742v1 is used in calls but not in baseline.\n",
      "Reference sequence chrUn_GL000216v2 is used in calls but not in baseline.\n",
      "Reference sequence chrUn_GL000218v1 is used in calls but not in baseline.\n",
      "Reference sequence chr1_KI270766v1_alt is used in calls but not in baseline.\n",
      "Reference sequence chr2_KI270776v1_alt is used in calls but not in baseline.\n",
      "Reference sequence chr7_KI270803v1_alt is used in calls but not in baseline.\n",
      "Reference sequence chr8_KI270821v1_alt is used in calls but not in baseline.\n",
      "Reference sequence chr12_GL877875v1_alt is used in calls but not in baseline.\n",
      "Reference sequence chr14_KI270846v1_alt is used in calls but not in baseline.\n",
      "Reference sequence chr15_KI270850v1_alt is used in calls but not in baseline.\n",
      "Reference sequence chr17_KI270857v1_alt is used in calls but not in baseline.\n",
      "Reference sequence chr22_KI270879v1_alt is used in calls but not in baseline.\n",
      "Reference sequence chr2_KI270894v1_alt is used in calls but not in baseline.\n",
      "Reference sequence chr17_KI270909v1_alt is used in calls but not in baseline.\n",
      "Reference sequence chr22_KI270928v1_alt is used in calls but not in baseline.\n",
      "Reference sequence chr19_KI270938v1_alt is used in calls but not in baseline.\n",
      "There were 9 variants not thresholded in ROC data files due to missing or invalid GQ (FORMAT) values.\n",
      "Threshold  True-pos-baseline  True-pos-call  False-pos  False-neg  Precision  Sensitivity  F-measure\n",
      "----------------------------------------------------------------------------------------------------\n",
      "    4.000            2659078        2659078     380661     650182     0.8748       0.8035     0.8376\n",
      "     None            2661697        2661697     386428     647563     0.8732       0.8043     0.8374\n",
      "\n",
      "Reference sequence chrM is used in calls but not in baseline.\n",
      "Reference sequence chr1_KI270706v1_random is used in calls but not in baseline.\n",
      "Reference sequence chr3_GL000221v1_random is used in calls but not in baseline.\n",
      "Reference sequence chr4_GL000008v2_random is used in calls but not in baseline.\n",
      "Reference sequence chr5_GL000208v1_random is used in calls but not in baseline.\n",
      "Reference sequence chr14_GL000009v2_random is used in calls but not in baseline.\n",
      "Reference sequence chr14_GL000225v1_random is used in calls but not in baseline.\n",
      "Reference sequence chr14_GL000194v1_random is used in calls but not in baseline.\n",
      "Reference sequence chr17_GL000205v2_random is used in calls but not in baseline.\n",
      "Reference sequence chr22_KI270731v1_random is used in calls but not in baseline.\n",
      "Reference sequence chrUn_GL000195v1 is used in calls but not in baseline.\n",
      "Reference sequence chrUn_GL000219v1 is used in calls but not in baseline.\n",
      "Reference sequence chrUn_GL000220v1 is used in calls but not in baseline.\n",
      "Reference sequence chrUn_GL000224v1 is used in calls but not in baseline.\n",
      "Reference sequence chrUn_GL000226v1 is used in calls but not in baseline.\n",
      "Reference sequence chrUn_GL000213v1 is used in calls but not in baseline.\n",
      "Reference sequence chrUn_GL000214v1 is used in calls but not in baseline.\n",
      "Reference sequence chrUn_KI270742v1 is used in calls but not in baseline.\n",
      "Reference sequence chrUn_GL000216v2 is used in calls but not in baseline.\n",
      "Reference sequence chrUn_GL000218v1 is used in calls but not in baseline.\n",
      "Reference sequence chr1_KI270766v1_alt is used in calls but not in baseline.\n",
      "Reference sequence chr1_KI270765v1_alt is used in calls but not in baseline.\n",
      "Reference sequence chr2_KI270776v1_alt is used in calls but not in baseline.\n",
      "Reference sequence chr7_KI270803v1_alt is used in calls but not in baseline.\n",
      "Reference sequence chr8_KI270821v1_alt is used in calls but not in baseline.\n",
      "Reference sequence chr12_GL877875v1_alt is used in calls but not in baseline.\n",
      "Reference sequence chr14_KI270846v1_alt is used in calls but not in baseline.\n",
      "Reference sequence chr15_KI270850v1_alt is used in calls but not in baseline.\n",
      "Reference sequence chr17_KI270862v1_alt is used in calls but not in baseline.\n",
      "Reference sequence chr17_KI270857v1_alt is used in calls but not in baseline.\n",
      "Reference sequence chr2_KI270894v1_alt is used in calls but not in baseline.\n",
      "Reference sequence chr17_KI270909v1_alt is used in calls but not in baseline.\n",
      "Reference sequence chr22_KI270928v1_alt is used in calls but not in baseline.\n",
      "Reference sequence chr19_KI270938v1_alt is used in calls but not in baseline.\n",
      "There were 12 variants not thresholded in ROC data files due to missing or invalid GQ (FORMAT) values.\n",
      "Threshold  True-pos-baseline  True-pos-call  False-pos  False-neg  Precision  Sensitivity  F-measure\n",
      "----------------------------------------------------------------------------------------------------\n",
      "    5.000            3030279        3030279     393797     278981     0.8850       0.9157     0.9001\n",
      "     None            3045473        3045473     415994     263787     0.8798       0.9203     0.8996\n",
      "\n"
     ]
    }
   ],
   "source": [
    "for _snp_vcf in sentieon_snp_vcfs:\n",
    "    sample_name = re.sub(\"_merged.+\", \"\", os.path.basename(_snp_vcf))\n",
    "    folder_name = \"NA12878_bulk2_vs_{}_sentieon_no_ploidy\".format(sample_name)\n",
    "    !cd scratch/ && ~/rtg-tools/bin/rtg-tools-3.10.1-4d58eadb/rtg RTG_MEM=4G  vcfeval --squash-ploidy  -b /home/rcarter/R_bioskryb_na12878_subsampled_with_bulk_analysis/vumc_subsampled_with_bulk.merged.snps_and_indels.vqsr.pass.snp.NA12878_Bulk2.vcf.gz -c $_snp_vcf -o $folder_name -t /home/rcarter/R_bioskryb_na12878_analysis/NA12878_comparison/SDF/\n",
    "for _snp_vcf in dragen_hf_snp_vcfs:\n",
    "    sample_name = re.sub(\"_merged.+\", \"\", os.path.basename(_snp_vcf))\n",
    "    folder_name = \"NA12878_bulk2_vs_{}_dragen_hf_no_ploidy\".format(sample_name)\n",
    "    !cd scratch/ && ~/rtg-tools/bin/rtg-tools-3.10.1-4d58eadb/rtg RTG_MEM=4G  vcfeval --squash-ploidy  -b /home/rcarter/R_bioskryb_na12878_subsampled_with_bulk_analysis/vumc_subsampled_with_bulk.merged.snps_and_indels.vqsr.pass.snp.NA12878_Bulk2.vcf.gz -c $_snp_vcf -o $folder_name -t /home/rcarter/R_bioskryb_na12878_analysis/NA12878_comparison/SDF/\n",
    "for _snp_vcf in dragen_snp_vcfs:\n",
    "    sample_name = re.sub(\"_merged.+\", \"\", os.path.basename(_snp_vcf))\n",
    "    folder_name = \"NA12878_bulk2_vs_{}_dragen_no_ploidy\".format(sample_name)\n",
    "    !cd scratch/ && ~/rtg-tools/bin/rtg-tools-3.10.1-4d58eadb/rtg RTG_MEM=4G  vcfeval --squash-ploidy  -b /home/rcarter/R_bioskryb_na12878_subsampled_with_bulk_analysis/vumc_subsampled_with_bulk.merged.snps_and_indels.vqsr.pass.snp.NA12878_Bulk2.vcf.gz -c $_snp_vcf -o $folder_name -t /home/rcarter/R_bioskryb_na12878_analysis/NA12878_comparison/SDF/"
   ]
  },
  {
   "cell_type": "code",
   "execution_count": null,
   "metadata": {},
   "outputs": [],
   "source": []
  }
 ],
 "metadata": {
  "jupytext": {
   "text_representation": {
    "extension": ".py",
    "format_name": "light",
    "format_version": "1.5",
    "jupytext_version": "1.3.4"
   }
  },
  "kernelspec": {
   "display_name": "Python 3",
   "language": "python",
   "name": "python3"
  },
  "language_info": {
   "codemirror_mode": {
    "name": "ipython",
    "version": 3
   },
   "file_extension": ".py",
   "mimetype": "text/x-python",
   "name": "python",
   "nbconvert_exporter": "python",
   "pygments_lexer": "ipython3",
   "version": "3.7.4"
  }
 },
 "nbformat": 4,
 "nbformat_minor": 4
}
