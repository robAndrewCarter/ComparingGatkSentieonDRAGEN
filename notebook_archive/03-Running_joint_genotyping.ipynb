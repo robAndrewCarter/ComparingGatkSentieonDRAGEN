{
 "cells": [
  {
   "cell_type": "code",
   "execution_count": 1,
   "metadata": {},
   "outputs": [],
   "source": [
    "%load_ext autoreload\n",
    "%autoreload 2"
   ]
  },
  {
   "cell_type": "code",
   "execution_count": 6,
   "metadata": {},
   "outputs": [],
   "source": [
    "import re, json, os, logging, io, pprint, subprocess\n",
    "\n",
    "import pandas as pd\n",
    "\n",
    "from cromwell_tools.cromwell_api import CromwellAPI as cwt\n",
    "from cromwell_tools import cromwell_auth\n",
    "from google.cloud import storage"
   ]
  },
  {
   "cell_type": "code",
   "execution_count": 7,
   "metadata": {},
   "outputs": [],
   "source": [
    "os.environ['GOOGLE_APPLICATION_CREDENTIALS'] = \"/home/rcarter/.google/bioskryb-81ce35d92471.json\""
   ]
  },
  {
   "cell_type": "markdown",
   "metadata": {},
   "source": [
    "Here we run joint genotyping using the g.vcfs generated using halotypecaller with bwa aln, but swapping in the g.vcfs from "
   ]
  },
  {
   "cell_type": "code",
   "execution_count": 13,
   "metadata": {},
   "outputs": [
    {
     "name": "stdout",
     "output_type": "stream",
     "text": [
      "Overwriting tracked_data/gather_vcfs.sh\n"
     ]
    }
   ],
   "source": [
    "%%writefile tracked_data/gather_vcfs.sh\n",
    "#!/usr/bin/env bash\n",
    "BASE_FILENAME=$1\n",
    "\n",
    "for i in chr1 chr2 chr3 chr4 chr5 chr6 chr7 chr8 chr9 chr10 chr11 chr12 chr13 chr14 chr15 chr16 chr17 chr18 chr19 chr20 chr21 chr22 chrX chrY chrM\n",
    "do\n",
    "  echo -I ${INPUT1}/${BASENAME_PREFIX}.${i}.g.vcf.gz\n",
    "done > files_to_cat.txt\n",
    "# cat files_to_cat.txt\n",
    "gatk GatherVcfs $(cat files_to_cat.txt) -O $OUTPUT1\n",
    "gatk IndexFeatureFile -F $OUTPUT1"
   ]
  },
  {
   "cell_type": "code",
   "execution_count": 14,
   "metadata": {},
   "outputs": [],
   "source": [
    "task_list = []\n",
    "for _sample_name in [\"JW-1\",\"JW-10\",\"JW-11\",\"JW-12\",\"JW-15\",\"JW-16\",\"JW-17\",\"JW-18\",\"JW-19\",\"JW-2\",\"JW-20\",\"JW-22\",\"JW-23\",\"JW-25\",\"JW-26\",\"JW-27\",\"JW-28\",\"JW-29\",\"JW-3\",\"JW-30\",\"JW-33\",\"JW-34\",\"JW-36\",\"JW-37\",\"JW-38\",\"JW-5\",\"JW-6\",\"JW-7\",\"JW-8\",\"JW-9\",\"NA12878_Bulk1\"]:\n",
    "    input_folder = \"gs://cromwell_runs/vumc_subsampled_bams/{}\".format(_sample_name)\n",
    "    basename_prefix = \"{}_merged_n450x10e6\".format(_sample_name)\n",
    "    output_vcf = \"{}/{}.g.vcf.gz\".format(input_folder,basename_prefix)\n",
    "    output_vcf_index = \"{}/{}.g.vcf.gz.tbi\".format(input_folder,basename_prefix)\n",
    "    task_list.append([_sample_name, basename_prefix, input_folder, output_vcf, output_vcf_index])\n",
    "pd.DataFrame(task_list, columns = ['--env SAMPLE_NAME', '--env BASENAME_PREFIX',  '--input-recursive INPUT1', '--output OUTPUT1', '--output OUTPUT2']).to_csv(\"tracked_data/00-gather_vcfs.tsv\", sep = \"\\t\", header= True, index = False)"
   ]
  },
  {
   "cell_type": "code",
   "execution_count": 15,
   "metadata": {},
   "outputs": [],
   "source": [
    "gathervcf_sb_out = subprocess.run(\n",
    "'/home/rcarter/anacon3/bin/dsub \\\n",
    "--label cost-type=gathervcf \\\n",
    "--retries 3 \\\n",
    "--preemptible 3 \\\n",
    "--wait \\\n",
    "--project bioskryb \\\n",
    "--name gathervcf \\\n",
    "--zones \"us-central1-a us-central1-b us-central1-c us-central1-d\" \\\n",
    "--logging gs://scratch_space/logs \\\n",
    "--env TMP_DIR=/mnt/data/input/gs/ \\\n",
    "--min-ram 4.0 \\\n",
    "--min-cores 1 \\\n",
    "--disk-size 35 \\\n",
    "--boot-disk-size 15 \\\n",
    "--image gcr.io/bioskryb/gatk:4.1.3.0 \\\n",
    "--ssh \\\n",
    "--enable-stackdriver-monitoring \\\n",
    "--tasks tracked_data/00-gather_vcfs.tsv \\\n",
    "--script tracked_data/gather_vcfs.sh'.format(\n",
    "        ).split(\" \"),\n",
    "    shell = False,\n",
    "    capture_output=True\n",
    ")"
   ]
  },
  {
   "cell_type": "code",
   "execution_count": 16,
   "metadata": {},
   "outputs": [
    {
     "data": {
      "text/plain": [
       "CompletedProcess(args=['/home/rcarter/anacon3/bin/dsub', '--label', 'cost-type=gathervcf', '--retries', '3', '--preemptible', '3', '--wait', '--project', 'bioskryb', '--name', 'gathervcf', '--zones', '\"us-central1-a', 'us-central1-b', 'us-central1-c', 'us-central1-d\"', '--logging', 'gs://scratch_space/logs', '--env', 'TMP_DIR=/mnt/data/input/gs/', '--min-ram', '4.0', '--min-cores', '1', '--disk-size', '35', '--boot-disk-size', '15', '--image', 'gcr.io/bioskryb/gatk:4.1.3.0', '--ssh', '--enable-stackdriver-monitoring', '--tasks', 'tracked_data/00-gather_vcfs.tsv', '--script', 'tracked_data/gather_vcfs.sh'], returncode=0, stdout=b'gathervcf--rcarter--200322-165205-49\\n', stderr=b\"Job: gathervcf--rcarter--200322-165205-49\\nProvider internal-id (operation): projects/bioskryb/operations/16715469436513904783\\nProvider internal-id (operation): projects/bioskryb/operations/8838978318860761133\\nProvider internal-id (operation): projects/bioskryb/operations/13601965918321940205\\nProvider internal-id (operation): projects/bioskryb/operations/16331868000635896895\\nProvider internal-id (operation): projects/bioskryb/operations/2998166472020307427\\nProvider internal-id (operation): projects/bioskryb/operations/9531640069634244904\\nProvider internal-id (operation): projects/bioskryb/operations/16943513805785653431\\nProvider internal-id (operation): projects/bioskryb/operations/15866612948776171942\\nProvider internal-id (operation): projects/bioskryb/operations/8767804553313300357\\nProvider internal-id (operation): projects/bioskryb/operations/12189630165931915404\\nProvider internal-id (operation): projects/bioskryb/operations/17347240582695889024\\nProvider internal-id (operation): projects/bioskryb/operations/17786930515298125846\\nProvider internal-id (operation): projects/bioskryb/operations/17793172810332837325\\nProvider internal-id (operation): projects/bioskryb/operations/9141622432727548109\\nProvider internal-id (operation): projects/bioskryb/operations/7382065867267730734\\nProvider internal-id (operation): projects/bioskryb/operations/14830517651037959396\\nProvider internal-id (operation): projects/bioskryb/operations/9240223803894026513\\nProvider internal-id (operation): projects/bioskryb/operations/974954210365194713\\nProvider internal-id (operation): projects/bioskryb/operations/2249866516623845476\\nProvider internal-id (operation): projects/bioskryb/operations/10169306630838090223\\nProvider internal-id (operation): projects/bioskryb/operations/16530630455902207781\\nProvider internal-id (operation): projects/bioskryb/operations/1660935925697669080\\nProvider internal-id (operation): projects/bioskryb/operations/9382031388206257826\\nProvider internal-id (operation): projects/bioskryb/operations/17142067812093971528\\nProvider internal-id (operation): projects/bioskryb/operations/13356372731666014705\\nProvider internal-id (operation): projects/bioskryb/operations/15630140376509506488\\nProvider internal-id (operation): projects/bioskryb/operations/6165758695501126780\\nProvider internal-id (operation): projects/bioskryb/operations/16484073967409177749\\nProvider internal-id (operation): projects/bioskryb/operations/15992006727825066834\\nProvider internal-id (operation): projects/bioskryb/operations/7084068956211017471\\nProvider internal-id (operation): projects/bioskryb/operations/13147405330570857533\\nLaunched job-id: gathervcf--rcarter--200322-165205-49\\n31 task(s)\\nTo check the status, run:\\n  dstat --provider google-v2 --project bioskryb --jobs 'gathervcf--rcarter--200322-165205-49' --users 'rcarter' --status '*'\\nTo cancel the job, run:\\n  ddel --provider google-v2 --project bioskryb --jobs 'gathervcf--rcarter--200322-165205-49' --users 'rcarter'\\nWaiting for job to complete...\\nMonitoring for failed tasks to retry...\\n*** This dsub process must continue running to retry failed tasks.\\n\")"
      ]
     },
     "execution_count": 16,
     "metadata": {},
     "output_type": "execute_result"
    }
   ],
   "source": [
    "gathervcf_sb_out"
   ]
  },
  {
   "cell_type": "markdown",
   "metadata": {},
   "source": [
    "The GATK's joint genotyping was run on the subsampled data by swapping the sentieon-based g.vcfs in place of the GATK samples for JW-11, JW-23, and JW-31"
   ]
  },
  {
   "cell_type": "code",
   "execution_count": null,
   "metadata": {},
   "outputs": [],
   "source": []
  }
 ],
 "metadata": {
  "jupytext": {
   "text_representation": {
    "extension": ".py",
    "format_name": "light",
    "format_version": "1.5",
    "jupytext_version": "1.3.4"
   }
  },
  "kernelspec": {
   "display_name": "Python 3",
   "language": "python",
   "name": "python3"
  },
  "language_info": {
   "codemirror_mode": {
    "name": "ipython",
    "version": 3
   },
   "file_extension": ".py",
   "mimetype": "text/x-python",
   "name": "python",
   "nbconvert_exporter": "python",
   "pygments_lexer": "ipython3",
   "version": "3.7.4"
  }
 },
 "nbformat": 4,
 "nbformat_minor": 4
}
