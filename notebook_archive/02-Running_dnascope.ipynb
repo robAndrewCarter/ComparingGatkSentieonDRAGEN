{
 "cells": [
  {
   "cell_type": "code",
   "execution_count": 1,
   "metadata": {},
   "outputs": [],
   "source": [
    "%load_ext autoreload\n",
    "%autoreload 2"
   ]
  },
  {
   "cell_type": "code",
   "execution_count": 12,
   "metadata": {},
   "outputs": [],
   "source": [
    "import re, json, os, logging, io, pprint, subprocess\n",
    "\n",
    "import pandas as pd\n",
    "\n",
    "from cromwell_tools.cromwell_api import CromwellAPI as cwt\n",
    "from cromwell_tools import cromwell_auth\n",
    "from google.cloud import storage"
   ]
  },
  {
   "cell_type": "code",
   "execution_count": 13,
   "metadata": {},
   "outputs": [],
   "source": [
    "os.environ['GOOGLE_APPLICATION_CREDENTIALS'] = \"/home/rcarter/.google/bioskryb-81ce35d92471.json\""
   ]
  },
  {
   "cell_type": "markdown",
   "metadata": {},
   "source": [
    "## Run DNAscope on individual samples"
   ]
  },
  {
   "cell_type": "markdown",
   "metadata": {},
   "source": [
    "To compares variant calling that is not affected by the inclusion of bulk data and other cells, we use DNAscope to assess variant calling on individual samples "
   ]
  },
  {
   "cell_type": "markdown",
   "metadata": {},
   "source": [
    "We use a modified input json that we used when we ran DNAseq"
   ]
  },
  {
   "cell_type": "code",
   "execution_count": 1,
   "metadata": {},
   "outputs": [],
   "source": [
    "sentieon_dnascope_input_dict = {\n",
    "  \"BAM\": \"\",\n",
    "  \"REF\": \"gs://bioskryb-dev-resources-4j2g6d/Homo_sapiens_assembly38.fasta\",\n",
    "  \"OUTPUT_BUCKET\": \"gs://bioskryb-work-d8f6s9/ComparingGatkSentieonDRAGEN/data/01-Sentieon_output/DNAScope/{}\",\n",
    "  \"BQSR_SITES\": \"gs://bioskryb-dev-resources-4j2g6d/Mills_and_1000G_gold_standard.indels.hg38.vcf.gz,gs://bioskryb-dev-resources-4j2g6d/Homo_sapiens_assembly38.known_indels.vcf.gz,gs://bioskryb-dev-resources-4j2g6d/Homo_sapiens_assembly38.dbsnp138.vcf.gz\",\n",
    "  \"DBSNP\": \"gs://bioskryb-dev-resources-4j2g6d/Homo_sapiens_assembly38.dbsnp138.vcf.gz\",\n",
    "  \"PREEMPTIBLE_TRIES\": \"2\",\n",
    "  \"NONPREEMPTIBLE_TRY\": True,\n",
    "  \"STREAM_INPUT\": \"True\",\n",
    "  \"ZONES\": \"us-central1-a,us-central1-b,us-central1-c,us-central1-f\",\n",
    "  \"PROJECT_ID\": \"bioskryb\",\n",
    "  \"EMAIL\": \"rob.carter@bioskryb.com\",\n",
    "  \"CALLING_ALGO\": \"DNAscope\"\n",
    "}"
   ]
  },
  {
   "cell_type": "code",
   "execution_count": null,
   "metadata": {},
   "outputs": [],
   "source": []
  },
  {
   "cell_type": "code",
   "execution_count": 14,
   "metadata": {},
   "outputs": [],
   "source": [
    "target_bam_locations = [\n",
    "    'gs://cromwell_runs/vumc_subsampled_bams/JW-31_merged_n450x10e6.bam',\n",
    "    'gs://cromwell_runs/vumc_subsampled_bams/JW-23_merged_n450x10e6.bam',\n",
    "    'gs://cromwell_runs/vumc_subsampled_bams/JW-11_merged_n450x10e6.bam'\n",
    "]"
   ]
  },
  {
   "cell_type": "code",
   "execution_count": 29,
   "metadata": {},
   "outputs": [],
   "source": [
    "from copy import deepcopy"
   ]
  },
  {
   "cell_type": "code",
   "execution_count": 12,
   "metadata": {},
   "outputs": [],
   "source": [
    "for _target_loc in target_bam_locations:\n",
    "    new_input_dict = deepcopy(sentieon_dnascope_input_dict)\n",
    "    sample_name = re.sub(\".bam\", \"\", os.path.basename(_target_loc))\n",
    "    new_input_dict['OUTPUT_BUCKET'] = sentieon_dnascope_input_dict['OUTPUT_BUCKET'].format(sample_name)\n",
    "    new_input_dict['BAM'] = _target_loc\n",
    "    json_filename = \"tracked_data/\" + re.sub(\".bam\", \".sentieoninput.json\", os.path.basename(_target_loc))\n",
    "    with open(json_filename, 'w') as ofh:\n",
    "        json.dump(new_input_dict, ofh)"
   ]
  },
  {
   "cell_type": "code",
   "execution_count": 13,
   "metadata": {},
   "outputs": [
    {
     "data": {
      "text/plain": [
       "['tracked_data/JW-11_merged_n450x10e6.sentieoninput.dnascope.json',\n",
       " 'tracked_data/JW-23_merged_n450x10e6.sentieoninput.dnascope.json',\n",
       " 'tracked_data/JW-31_merged_n450x10e6.sentieoninput.dnascope.json']"
      ]
     },
     "execution_count": 13,
     "metadata": {},
     "output_type": "execute_result"
    }
   ],
   "source": [
    "json_files = !ls tracked_data/*dnascope.json\n",
    "json_files"
   ]
  },
  {
   "cell_type": "code",
   "execution_count": 14,
   "metadata": {},
   "outputs": [
    {
     "name": "stdout",
     "output_type": "stream",
     "text": [
      "Running: /home/rcarter/sentieon-google-genomics/runner/sentieon_runner.py tracked_data/JW-11_merged_n450x10e6.sentieoninput.dnascope.json\n",
      "sentieon_runner.py::main [WARNING] Launched job: projects/15107082255/locations/us-central1/operations/8188070642145833998\n",
      "sentieon_runner.py::main [WARNING] Operation succeeded\n",
      "Running: /home/rcarter/sentieon-google-genomics/runner/sentieon_runner.py tracked_data/JW-31_merged_n450x10e6.sentieoninput.dnascope.json\n",
      "sentieon_runner.py::main [WARNING] Launched job: projects/15107082255/locations/us-central1/operations/8107361362402590410\n",
      "sentieon_runner.py::main [WARNING] Run 1 failed. Retrying...\n",
      "sentieon_runner.py::main [WARNING] Launched job: projects/15107082255/locations/us-central1/operations/2659574528313330652\n",
      "sentieon_runner.py::main [WARNING] Operation succeeded\n",
      "Running: /home/rcarter/sentieon-google-genomics/runner/sentieon_runner.py tracked_data/JW-23_merged_n450x10e6.sentieoninput.dnascope.json\n",
      "sentieon_runner.py::main [WARNING] Launched job: projects/15107082255/locations/us-central1/operations/14843950904577037015\n",
      "sentieon_runner.py::main [WARNING] Run 1 failed. Retrying...\n",
      "sentieon_runner.py::main [WARNING] Launched job: projects/15107082255/locations/us-central1/operations/7742503238230824833\n",
      "sentieon_runner.py::main [WARNING] Run 2 failed. Retrying...\n",
      "sentieon_runner.py::main [WARNING] Launched job: projects/15107082255/locations/us-central1/operations/9043016371728158247\n",
      "sentieon_runner.py::main [WARNING] Operation succeeded\n"
     ]
    }
   ],
   "source": [
    "!ls tracked_data/*.dnascope.json | parallel -j 3 --max-args 1 \"tracked_data/time_and_run_sentieon.sh {}\""
   ]
  },
  {
   "cell_type": "code",
   "execution_count": null,
   "metadata": {},
   "outputs": [],
   "source": []
  }
 ],
 "metadata": {
  "jupytext": {
   "text_representation": {
    "extension": ".py",
    "format_name": "light",
    "format_version": "1.5",
    "jupytext_version": "1.3.4"
   }
  },
  "kernelspec": {
   "display_name": "Python 3",
   "language": "python",
   "name": "python3"
  },
  "language_info": {
   "codemirror_mode": {
    "name": "ipython",
    "version": 3
   },
   "file_extension": ".py",
   "mimetype": "text/x-python",
   "name": "python",
   "nbconvert_exporter": "python",
   "pygments_lexer": "ipython3",
   "version": "3.7.4"
  }
 },
 "nbformat": 4,
 "nbformat_minor": 4
}
