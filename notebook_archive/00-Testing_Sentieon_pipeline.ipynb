{
 "cells": [
  {
   "cell_type": "markdown",
   "metadata": {},
   "source": [
    "## Run Sentieon on 3 samples"
   ]
  },
  {
   "cell_type": "code",
   "execution_count": 1,
   "metadata": {},
   "outputs": [],
   "source": [
    "%load_ext autoreload\n",
    "%autoreload 2"
   ]
  },
  {
   "cell_type": "code",
   "execution_count": 12,
   "metadata": {},
   "outputs": [],
   "source": [
    "import re, json, os, logging, io, pprint, subprocess\n",
    "\n",
    "import pandas as pd\n",
    "\n",
    "from cromwell_tools.cromwell_api import CromwellAPI as cwt\n",
    "from cromwell_tools import cromwell_auth\n",
    "from google.cloud import storage"
   ]
  },
  {
   "cell_type": "code",
   "execution_count": 13,
   "metadata": {},
   "outputs": [],
   "source": [
    "os.environ['GOOGLE_APPLICATION_CREDENTIALS'] = \"/home/rcarter/.google/bioskryb-81ce35d92471.json\""
   ]
  },
  {
   "cell_type": "code",
   "execution_count": null,
   "metadata": {},
   "outputs": [],
   "source": [
    "## task_list = []\n",
    "## for _bam_location in target_bam_locations:\n",
    "##     output_prefix = \"gs://bioskryb-illumina-share-3j5h2s/\"\n",
    "##     read1_out = \"{}{}\".format(output_prefix, os.path.basename(re.sub(\".bam\", \"_R1.fastq.gz\", _bam_location)))\n",
    "##     read2_out = \"{}{}\".format(output_prefix, os.path.basename(re.sub(\".bam\", \"_R2.fastq.gz\", _bam_location)))\n",
    "##     task_list.append([_bam_location, read1_out, read2_out])\n",
    "## pd.DataFrame(task_list, columns = ['--input INPUT1', '--output OUTPUT1', '--output OUTPUT2']).to_csv(\"sam_to_fastq.tsv\", sep = \"\\t\", header= True, index = False)"
   ]
  },
  {
   "cell_type": "code",
   "execution_count": 31,
   "metadata": {},
   "outputs": [],
   "source": [
    "sentieon_input_dict = {\n",
    "  \"BAM\": \"\",\n",
    "  \"REF\": \"gs://bioskryb-dev-resources-4j2g6d/Homo_sapiens_assembly38.fasta\",\n",
    "  \"OUTPUT_BUCKET\": \"gs://bioskryb-work-d8f6s9/ComparingGatkSentieonDRAGEN/data/01-Sentieon_output/{}\",\n",
    "  \"BQSR_SITES\": \"gs://bioskryb-dev-resources-4j2g6d/Mills_and_1000G_gold_standard.indels.hg38.vcf.gz,gs://bioskryb-dev-resources-4j2g6d/Homo_sapiens_assembly38.known_indels.vcf.gz,gs://bioskryb-dev-resources-4j2g6d/Homo_sapiens_assembly38.dbsnp138.vcf.gz\",\n",
    "  \"DBSNP\": \"gs://bioskryb-dev-resources-4j2g6d/Homo_sapiens_assembly38.dbsnp138.vcf.gz\",\n",
    "  \"PREEMPTIBLE_TRIES\": \"2\",\n",
    "  \"NONPREEMPTIBLE_TRY\": True,\n",
    "  \"STREAM_INPUT\": \"True\",\n",
    "  \"ZONES\": \"us-central1-a,us-central1-b,us-central1-c,us-central1-f\",\n",
    "  \"PROJECT_ID\": \"bioskryb\",\n",
    "  \"EMAIL\": \"rob.carter@bioskryb.com\"\n",
    "}"
   ]
  },
  {
   "cell_type": "code",
   "execution_count": 14,
   "metadata": {},
   "outputs": [],
   "source": [
    "target_bam_locations = [\n",
    "    'gs://cromwell_runs/vumc_subsampled_bams/JW-31_merged_n450x10e6.bam',\n",
    "    'gs://cromwell_runs/vumc_subsampled_bams/JW-23_merged_n450x10e6.bam',\n",
    "    'gs://cromwell_runs/vumc_subsampled_bams/JW-11_merged_n450x10e6.bam'\n",
    "]"
   ]
  },
  {
   "cell_type": "markdown",
   "metadata": {},
   "source": [
    "The sentieon runner script does not handle bai files of the form foo.bai and instead requires foo.bam.bai. Therefore, these will need to be created for the threee bams to test. They will be subsequently deleted."
   ]
  },
  {
   "cell_type": "code",
   "execution_count": 27,
   "metadata": {},
   "outputs": [
    {
     "name": "stdout",
     "output_type": "stream",
     "text": [
      "Copying gs://cromwell_runs/vumc_subsampled_bams/JW-31_merged_n450x10e6.bai [Content-Type=application/octet-stream]...\n",
      "/ [1 files][  8.5 MiB/  8.5 MiB]                                                \n",
      "Operation completed over 1 objects/8.5 MiB.                                      \n",
      "Copying gs://cromwell_runs/vumc_subsampled_bams/JW-23_merged_n450x10e6.bai [Content-Type=application/octet-stream]...\n",
      "/ [1 files][  8.4 MiB/  8.4 MiB]                                                \n",
      "Operation completed over 1 objects/8.4 MiB.                                      \n",
      "Copying gs://cromwell_runs/vumc_subsampled_bams/JW-11_merged_n450x10e6.bai [Content-Type=application/octet-stream]...\n",
      "/ [1 files][  8.5 MiB/  8.5 MiB]                                                \n",
      "Operation completed over 1 objects/8.5 MiB.                                      \n"
     ]
    }
   ],
   "source": [
    "for _bam in target_bam_locations:\n",
    "    bai_filename = re.sub(\"\\.bam\", \".bai\", _bam)\n",
    "    new_bai_filename = _bam + \".bai\"\n",
    "    !gsutil cp $bai_filename $new_bai_filename"
   ]
  },
  {
   "cell_type": "code",
   "execution_count": 29,
   "metadata": {},
   "outputs": [],
   "source": [
    "from copy import deepcopy"
   ]
  },
  {
   "cell_type": "code",
   "execution_count": 41,
   "metadata": {},
   "outputs": [
    {
     "name": "stdout",
     "output_type": "stream",
     "text": [
      "Overwriting tracked_data/time_and_run_sentieon.sh\n"
     ]
    }
   ],
   "source": [
    "%%writefile tracked_data/time_and_run_sentieon.sh\n",
    "#!/usr/bin/env bash\n",
    "JSON_FILE=$1\n",
    "LOG_FILE=${JSON_FILE}.run.log\n",
    "echo Start: $(date +'%m-%d-%Y-%H-%M-%S') > $LOG_FILE\n",
    "echo Running: ~/sentieon-google-genomics/runner/sentieon_runner.py $JSON_FILE\n",
    "echo $(~/sentieon-google-genomics/runner/sentieon_runner.py $JSON_FILE) >> $LOG_FILE\n",
    "echo End: $(date +'%m-%d-%Y-%H-%M-%S') >> $LOG_FILE"
   ]
  },
  {
   "cell_type": "code",
   "execution_count": 42,
   "metadata": {},
   "outputs": [],
   "source": [
    "!chmod 755 tracked_data/time_and_run_sentieon.sh"
   ]
  },
  {
   "cell_type": "code",
   "execution_count": 32,
   "metadata": {},
   "outputs": [],
   "source": [
    "for _target_loc in target_bam_locations:\n",
    "    new_input_dict = deepcopy(sentieon_input_dict)\n",
    "    sample_name = re.sub(\".bam\", \"\", os.path.basename(_target_loc))\n",
    "    new_input_dict['OUTPUT_BUCKET'] = sentieon_input_dict['OUTPUT_BUCKET'].format(sample_name)\n",
    "    new_input_dict['BAM'] = _target_loc\n",
    "    json_filename = \"tracked_data/\" + re.sub(\".bam\", \".sentieoninput.json\", os.path.basename(_target_loc))\n",
    "    with open(json_filename, 'w') as ofh:\n",
    "        json.dump(new_input_dict, ofh)"
   ]
  },
  {
   "cell_type": "code",
   "execution_count": 43,
   "metadata": {},
   "outputs": [
    {
     "data": {
      "text/plain": [
       "['tracked_data/JW-11_merged_n450x10e6.sentieoninput.json',\n",
       " 'tracked_data/JW-23_merged_n450x10e6.sentieoninput.json',\n",
       " 'tracked_data/JW-31_merged_n450x10e6.sentieoninput.json']"
      ]
     },
     "execution_count": 43,
     "metadata": {},
     "output_type": "execute_result"
    }
   ],
   "source": [
    "json_files = !ls tracked_data/*.json\n",
    "json_files"
   ]
  },
  {
   "cell_type": "code",
   "execution_count": 47,
   "metadata": {},
   "outputs": [
    {
     "name": "stdout",
     "output_type": "stream",
     "text": [
      "Running: /home/rcarter/sentieon-google-genomics/runner/sentieon_runner.py tracked_data/JW-11_merged_n450x10e6.sentieoninput.json\n",
      "sentieon_runner.py::main [WARNING] Launched job: projects/15107082255/locations/us-central1/operations/12216060201119194886\n",
      "sentieon_runner.py::main [WARNING] Operation succeeded\n",
      "Running: /home/rcarter/sentieon-google-genomics/runner/sentieon_runner.py tracked_data/JW-23_merged_n450x10e6.sentieoninput.json\n",
      "sentieon_runner.py::main [WARNING] Launched job: projects/15107082255/locations/us-central1/operations/12747761342916308494\n",
      "sentieon_runner.py::main [WARNING] Operation succeeded\n",
      "Running: /home/rcarter/sentieon-google-genomics/runner/sentieon_runner.py tracked_data/JW-31_merged_n450x10e6.sentieoninput.json\n",
      "sentieon_runner.py::main [WARNING] Launched job: projects/15107082255/locations/us-central1/operations/17004832252334706818\n",
      "sentieon_runner.py::main [WARNING] Operation succeeded\n"
     ]
    }
   ],
   "source": [
    "!ls tracked_data/*.json | parallel -j 3 --max-args 1 \"tracked_data/time_and_run_sentieon.sh {}\""
   ]
  },
  {
   "cell_type": "markdown",
   "metadata": {},
   "source": [
    "## Run joint genotyping with Sentieon samples in place of GATK samples"
   ]
  },
  {
   "cell_type": "markdown",
   "metadata": {},
   "source": [
    "To accurately compare the Sentieon GATK replacement with GATK, we need to rerun the joint genotyping with the same samples as were run in GATK, but swapping out the three samples that were run SENTIEON. This will cause differences in variant calling to be causesd only by the presence of the three Sentieon-run cells"
   ]
  },
  {
   "cell_type": "code",
   "execution_count": null,
   "metadata": {},
   "outputs": [],
   "source": []
  }
 ],
 "metadata": {
  "jupytext": {
   "text_representation": {
    "extension": ".py",
    "format_name": "light",
    "format_version": "1.5",
    "jupytext_version": "1.3.4"
   }
  },
  "kernelspec": {
   "display_name": "Python 3",
   "language": "python",
   "name": "python3"
  },
  "language_info": {
   "codemirror_mode": {
    "name": "ipython",
    "version": 3
   },
   "file_extension": ".py",
   "mimetype": "text/x-python",
   "name": "python",
   "nbconvert_exporter": "python",
   "pygments_lexer": "ipython3",
   "version": "3.7.4"
  }
 },
 "nbformat": 4,
 "nbformat_minor": 4
}
